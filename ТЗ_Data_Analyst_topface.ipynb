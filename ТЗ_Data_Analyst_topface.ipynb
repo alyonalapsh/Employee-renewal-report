{
 "cells": [
  {
   "cell_type": "code",
   "execution_count": 412,
   "id": "3a1b3dc6",
   "metadata": {},
   "outputs": [],
   "source": [
    "import numpy as np\n",
    "import pandas as pd\n",
    "import matplotlib.pyplot as plt"
   ]
  },
  {
   "cell_type": "code",
   "execution_count": 415,
   "id": "859f0be0",
   "metadata": {},
   "outputs": [],
   "source": [
    "# записываем датафреймы\n",
    "df_fin = pd.read_csv('financial_data.csv')\n",
    "df_prolong = pd.read_csv('prolongations.csv')\n",
    "\n",
    "# удаляем дубликаты\n",
    "df_fin = df_fin.drop_duplicates()\n",
    "df_prolong = df_prolong.drop_duplicates()"
   ]
  },
  {
   "cell_type": "code",
   "execution_count": null,
   "id": "2f3f5dcf",
   "metadata": {},
   "outputs": [],
   "source": []
  },
  {
   "cell_type": "code",
   "execution_count": 416,
   "id": "148312a4",
   "metadata": {},
   "outputs": [],
   "source": [
    "# хронология месяцев и маппинг\n",
    "months_ordered = [\n",
    "    'Ноябрь 2022', 'Декабрь 2022', 'Январь 2023', 'Февраль 2023',\n",
    "    'Март 2023', 'Апрель 2023', 'Май 2023', 'Июнь 2023',\n",
    "    'Июль 2023', 'Август 2023', 'Сентябрь 2023', 'Октябрь 2023',\n",
    "    'Ноябрь 2023', 'Декабрь 2023', 'Январь 2024', 'Февраль 2024'\n",
    "]\n",
    "month_map = {m: i+1 for i, m in enumerate(map(str.lower, months_ordered))}"
   ]
  },
  {
   "cell_type": "code",
   "execution_count": 417,
   "id": "1ac28b09",
   "metadata": {},
   "outputs": [],
   "source": [
    "# обработка специальных значений\n",
    "def parse_val(v):\n",
    "    if pd.isna(v): return 0\n",
    "    s = str(v).strip().lower()\n",
    "    if s in ['в ноль', 'в ноль.']: return 0\n",
    "    if s in ['стоп', 'end']: return 'STOP'\n",
    "    s = s.replace('\\xa0', '').replace(' ', '')\n",
    "    s = s.replace(',', '.')\n",
    "    \n",
    "    try:\n",
    "        #заменяем запятую на точку для корректного float\n",
    "        return float(s)\n",
    "    except ValueError:\n",
    "        # чтобы явно видеть, что произошло\n",
    "        print(f\"⚠️ Проблема при парсинге значения: {v}\")\n",
    "        return 0\n",
    "    \n",
    "    \n",
    "for m in months_ordered:\n",
    "    df_fin[m] = df_fin[m].apply(parse_val)"
   ]
  },
  {
   "cell_type": "code",
   "execution_count": 421,
   "id": "bd1a3f6f",
   "metadata": {},
   "outputs": [],
   "source": [
    "# объединяем датафреймы\n",
    "df = df_fin.merge(df_prolong[['id','month','AM']], on='id', how='left') \\\n",
    "           .rename(columns={'AM':'Manager'})"
   ]
  },
  {
   "cell_type": "code",
   "execution_count": 422,
   "id": "bfa198f5",
   "metadata": {},
   "outputs": [],
   "source": [
    "# добавляем новый столбец с порядковым числом месяца\n",
    "df['end_period'] = df['month'].map(month_map)"
   ]
  },
  {
   "cell_type": "code",
   "execution_count": 423,
   "id": "f35d50e0",
   "metadata": {},
   "outputs": [],
   "source": [
    "# удаляем строки с Nan и столбец\n",
    "df = df.dropna(subset=['month'])\n",
    "df = df.drop('Account', axis=1)"
   ]
  },
  {
   "cell_type": "code",
   "execution_count": 428,
   "id": "45defe45",
   "metadata": {},
   "outputs": [],
   "source": [
    "# исключаем проекты со stop\n",
    "month_map_ = {m: i+1 for i, m in enumerate(months_ordered)}\n",
    "\n",
    "def has_stop(row):\n",
    "    end = row['end_period']\n",
    "    for m, idx in month_map_.items():\n",
    "        if idx <= end and row[m] == 'STOP':\n",
    "            return True\n",
    "    return False"
   ]
  },
  {
   "cell_type": "code",
   "execution_count": 429,
   "id": "ca44717f",
   "metadata": {},
   "outputs": [],
   "source": [
    "df = df[~df.apply(has_stop, axis=1)].copy()"
   ]
  },
  {
   "cell_type": "code",
   "execution_count": 443,
   "id": "f90488c8",
   "metadata": {},
   "outputs": [],
   "source": [
    "# переводим в длинный формат\n",
    "df_long = df.melt(\n",
    "    id_vars=['id','Manager','end_period'],\n",
    "    value_vars=months_ordered,\n",
    "    var_name='ship_month',\n",
    "    value_name='amount'\n",
    ")"
   ]
  },
  {
   "cell_type": "code",
   "execution_count": 444,
   "id": "6cb52270",
   "metadata": {},
   "outputs": [],
   "source": [
    "df_long['ship_period'] = df_long['ship_month'].map(month_map_)"
   ]
  },
  {
   "cell_type": "code",
   "execution_count": 445,
   "id": "fdc3c15b",
   "metadata": {},
   "outputs": [],
   "source": [
    "df_long = df_long[df_long['amount'] != 'STOP']"
   ]
  },
  {
   "cell_type": "code",
   "execution_count": 446,
   "id": "f099e644",
   "metadata": {},
   "outputs": [],
   "source": [
    "df_long = df_long.copy()\n",
    "df_long['amount'] = pd.to_numeric(df_long['amount'], errors='coerce')"
   ]
  },
  {
   "cell_type": "code",
   "execution_count": 448,
   "id": "9c7ef1c9",
   "metadata": {},
   "outputs": [],
   "source": [
    "# убераем проекты без единой положительной отгрузки\n",
    "sums_project = df_long.groupby('id')['amount'].sum()\n",
    "valid_ids = sums_project[sums_project > 0].index\n",
    "df_long = df_long[df_long['id'].isin(valid_ids)]"
   ]
  },
  {
   "cell_type": "code",
   "execution_count": 449,
   "id": "5a5f06d2",
   "metadata": {},
   "outputs": [],
   "source": [
    "df_long = df_long[df_long['Manager'] != 'без А/М']"
   ]
  },
  {
   "cell_type": "code",
   "execution_count": null,
   "id": "b5b23dc4",
   "metadata": {},
   "outputs": [],
   "source": []
  },
  {
   "cell_type": "code",
   "execution_count": 451,
   "id": "26364982",
   "metadata": {},
   "outputs": [],
   "source": [
    "# функции расчета коэффициентов для каждого менеджера по месяцам\n",
    "def calc_k1_manager(df, t):\n",
    "    P1 = df[df['end_period']==t-1]\n",
    "    denom = P1[P1['ship_period']==t-1].groupby('Manager')['amount'].sum()\n",
    "    numer = P1[P1['ship_period']==t].groupby('Manager')['amount'].sum()\n",
    "    return (numer / denom).rename(f'K1_period_{t}')\n",
    "\n",
    "\n",
    "def calc_k2_manager(df, t):\n",
    "    P2 = df[df['end_period']==t-2]\n",
    "    piv = P2.pivot_table(\n",
    "        index=['id','Manager'],\n",
    "        columns='ship_period', values='amount',\n",
    "        aggfunc='sum', fill_value=0\n",
    "    ).reset_index()\n",
    "    P2a = piv[piv.get(t-1, 0) == 0]\n",
    "    denom = P2a.groupby('Manager')[t-2].sum()\n",
    "    numer = P2a.groupby('Manager')[t].sum()\n",
    "    return (numer / denom).rename(f'K2_period_{t}')"
   ]
  },
  {
   "cell_type": "code",
   "execution_count": 454,
   "id": "6b21d08f",
   "metadata": {},
   "outputs": [],
   "source": [
    "results_manager = []\n",
    "for t in range(3, 15):  # периоды 3..14\n",
    "    k1 = calc_k1_manager(df_long, t)\n",
    "    k2 = calc_k2_manager(df_long, t)\n",
    "    month_period = next((k.split()[0] for k, v in month_map.items() if v == t), None)\n",
    "    tmp = pd.concat([k1, k2], axis=1).reset_index().assign(period=month_period)\n",
    "    results_manager.append(tmp)"
   ]
  },
  {
   "cell_type": "code",
   "execution_count": null,
   "id": "ed715ac4",
   "metadata": {},
   "outputs": [],
   "source": []
  },
  {
   "cell_type": "code",
   "execution_count": 456,
   "id": "83e80f63",
   "metadata": {},
   "outputs": [],
   "source": [
    "# функции расчета коэффициентов для всего отдела за каждый месяц\n",
    "def calc_k1_month(df, t):\n",
    "    P1 = df[df['end_period']==t-1]\n",
    "    denom = P1[P1['ship_period']==t-1].groupby('ship_month')['amount'].sum().iloc[0]\n",
    "    numer = P1[P1['ship_period']==t].groupby('ship_month')['amount'].sum().iloc[0]\n",
    "    return pd.Series(numer / denom if denom != 0 else None).rename(f'K1_period_{t}')\n",
    "\n",
    "\n",
    "def calc_k2_month(df, t):\n",
    "    P2 = df[df['end_period']==t-2]\n",
    "    piv = P2.pivot_table(\n",
    "        index=['id'],\n",
    "        columns='ship_period', values='amount',\n",
    "        aggfunc='sum', fill_value=0\n",
    "    ).reset_index()\n",
    "    P2a = piv[piv.get(t-1, 0) == 0]\n",
    "    denom = P2a[t-2].sum()\n",
    "    numer = P2a[t].sum()\n",
    "    return pd.Series(numer / denom if denom != 0 else None).rename(f'K2_period_{t}')"
   ]
  },
  {
   "cell_type": "code",
   "execution_count": 457,
   "id": "949103f8",
   "metadata": {},
   "outputs": [],
   "source": [
    "results_month = []\n",
    "for t in range(3, 15):  # периоды 3..14\n",
    "    k1 = calc_k1_m(df_long, t)\n",
    "    k2 = calc_k2_m(df_long, t)\n",
    "    month_period = next((k.split()[0] for k, v in month_map.items() if v == t), None)\n",
    "    tmp = pd.concat([k1, k2], axis=1).assign(period=month_period)\n",
    "    results_month.append(tmp)"
   ]
  },
  {
   "cell_type": "code",
   "execution_count": 493,
   "id": "c735ab1d",
   "metadata": {},
   "outputs": [],
   "source": [
    "# функция объединяет список датафремов в один датафрейм\n",
    "def combine_period_dfs(df_list, cols=None):\n",
    "    \n",
    "    # Определяем порядок месяцев, чтобы потом отсортировать по календарю\n",
    "    months_order = [m.split()[0].lower() for m in months_ordered[2:14]]\n",
    "    \n",
    "    processed = []\n",
    "    for df in df_list:\n",
    "        # найдём колонки с K1 и K2 для этого df\n",
    "        k1_cols = [c for c in df.columns if c.startswith('K1_period_')]\n",
    "        k2_cols = [c for c in df.columns if c.startswith('K2_period_')]\n",
    "        if not k1_cols or not k2_cols:\n",
    "            continue  # пропускаем, если чего-то нет\n",
    "        \n",
    "        # оставляем только нужные колонки\n",
    "        if cols == 'Manager':\n",
    "            tmp = df[['Manager', 'period', k1_cols[0], k2_cols[0]]].copy()\n",
    "        else:\n",
    "            tmp = df[['period', k1_cols[0], k2_cols[0]]].copy()\n",
    "            \n",
    "        # переименуем в унифицированные\n",
    "        tmp = tmp.rename(columns={\n",
    "            k1_cols[0]: 'K1',\n",
    "            k2_cols[0]: 'K2',\n",
    "            'period': 'month'\n",
    "        })\n",
    "        processed.append(tmp)\n",
    "    \n",
    "    # объединяем всё в один DF\n",
    "    result = pd.concat(processed, ignore_index=True)\n",
    "    if cols == 'Manager':\n",
    "        # делаем month категориальным\n",
    "        result['month'] = pd.Categorical(\n",
    "            result['month'],\n",
    "            categories=months_order,\n",
    "            ordered=True\n",
    "        )\n",
    "    \n",
    "        # сортируем\n",
    "        result = result.sort_values(by=['Manager', 'month']).reset_index(drop=True)\n",
    "    \n",
    "    return result"
   ]
  },
  {
   "cell_type": "code",
   "execution_count": 494,
   "id": "384df320",
   "metadata": {},
   "outputs": [],
   "source": [
    "# датафрейм с К1 и К2 для каждого менеджера по месяцам\n",
    "manager_monthly = combine_period_dfs(results_manager, 'Manager')"
   ]
  },
  {
   "cell_type": "code",
   "execution_count": 496,
   "id": "5d381776",
   "metadata": {},
   "outputs": [],
   "source": [
    "# датафрейм с К1 и К2 по всему отделу за каждый месяц\n",
    "dept_monthly = combine_period_dfs(results_month)"
   ]
  },
  {
   "cell_type": "code",
   "execution_count": 497,
   "id": "07645d33",
   "metadata": {},
   "outputs": [],
   "source": [
    "# датафрейм с суммой К1 и К2 по каждому менеджеру за весь год\n",
    "manager_yearly = manager_monthly.groupby('Manager', as_index=False).agg({'K1': 'sum', 'K2': 'sum'})"
   ]
  },
  {
   "cell_type": "code",
   "execution_count": 498,
   "id": "c0d91173",
   "metadata": {},
   "outputs": [],
   "source": [
    "# сумма К1 и К2 по всему отделу за весь год\n",
    "total_k1 = manager_monthly['K1'].sum()\n",
    "total_k2 = manager_monthly['K2'].sum()"
   ]
  },
  {
   "cell_type": "code",
   "execution_count": 499,
   "id": "da05297f",
   "metadata": {},
   "outputs": [],
   "source": [
    "# быстрое сохранение в Excel\n",
    "\n",
    "with pd.ExcelWriter('analytics_report.xlsx', engine='xlsxwriter') as writer:\n",
    "    manager_monthly.to_excel(writer, sheet_name='Manager_Monthly', index=False)\n",
    "    dept_monthly.to_excel(writer, sheet_name='Dept_Monthly', index=False)\n",
    "    manager_yearly.to_excel(writer, sheet_name='Manager_Yearly', index=False)"
   ]
  }
 ],
 "metadata": {
  "kernelspec": {
   "display_name": "Python 3 (ipykernel)",
   "language": "python",
   "name": "python3"
  },
  "language_info": {
   "codemirror_mode": {
    "name": "ipython",
    "version": 3
   },
   "file_extension": ".py",
   "mimetype": "text/x-python",
   "name": "python",
   "nbconvert_exporter": "python",
   "pygments_lexer": "ipython3",
   "version": "3.11.8"
  }
 },
 "nbformat": 4,
 "nbformat_minor": 5
}
